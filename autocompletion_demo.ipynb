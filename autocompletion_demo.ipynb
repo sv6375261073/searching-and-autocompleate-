{
 "cells": [
  {
   "cell_type": "markdown",
   "metadata": {
    "colab_type": "text",
    "id": "lJa_fge2V6Tu"
   },
   "source": [
    "# Introduction\n",
    "Query auto completion (QAC) is an important component of writing assitance in search engines. Given an incomplete user input, QAC suggests a list of possible completions that help save users' keystrokes. These completions usually start with the user input. For example, when users type in \"linke\", QAC may suggests \"linkedin\", \"linkedin corporation\", etc..\n",
    "\n",
    "A typical QAC system usually consists of two main components: candidate generation and candidate ranking. Given a user input, the candidate generation component generates a list of candidate suggestions first, and the candidate ranking component ranks the suggestions in the order of relevance. \n",
    "\n",
    "In this session, we will go through the steps of building a QAC system. The content covers\n",
    "\n",
    "\n",
    "1.   sample dataset preparation\n",
    "2.   candidate generation component construction\n",
    "3.   candidate ranking component construction\n",
    "4.   a QAC system in action\n",
    "\n"
   ]
  },
  {
   "cell_type": "code",
   "execution_count": null,
   "metadata": {
    "colab": {
     "base_uri": "https://localhost:8080/",
     "height": 204
    },
    "colab_type": "code",
    "executionInfo": {
     "elapsed": 4353,
     "status": "ok",
     "timestamp": 1598312795687,
     "user": {
      "displayName": "Sida Wang",
      "photoUrl": "https://lh3.googleusercontent.com/a-/AOh14GhX6X9tJZ48VekSiIwpiMJXwreir_J00GucSmeC=s64",
      "userId": "05716004630528480504"
     },
     "user_tz": 420
    },
    "id": "tZxfmXLqTads",
    "outputId": "9e0cc307-4f45-4e8c-d656-8000aa153f51"
   },
   "outputs": [],
   "source": [
    "# Download a sample data of the AOL (America Online) dataset from the web\n",
    "# The complete collection consists of ~20M web queries collected from ~650k AOL users over three months (2006 March to 2006 June).\n",
    "# !wget http://www.cim.mcgill.ca/~dudek/206/Logs/AOL-user-ct-collection/user-ct-test-collection-01.txt"
   ]
  },
  {
   "cell_type": "code",
   "execution_count": null,
   "metadata": {
    "colab": {
     "base_uri": "https://localhost:8080/",
     "height": 187
    },
    "colab_type": "code",
    "executionInfo": {
     "elapsed": 4343,
     "status": "ok",
     "timestamp": 1598312795688,
     "user": {
      "displayName": "Sida Wang",
      "photoUrl": "https://lh3.googleusercontent.com/a-/AOh14GhX6X9tJZ48VekSiIwpiMJXwreir_J00GucSmeC=s64",
      "userId": "05716004630528480504"
     },
     "user_tz": 420
    },
    "id": "JSiDQNLCVEPO",
    "outputId": "3467941c-a0f8-4165-9be8-7cb849023097"
   },
   "outputs": [],
   "source": [
    "# Take a glimpse into the data. We will only make use of the \"Query\" and the \"QueryTime\" column\n",
    "# !head user-ct-test-collection-01.txt"
   ]
  },
  {
   "cell_type": "code",
   "execution_count": null,
   "metadata": {
    "colab": {
     "base_uri": "https://localhost:8080/",
     "height": 34
    },
    "colab_type": "code",
    "executionInfo": {
     "elapsed": 4565,
     "status": "ok",
     "timestamp": 1598312795919,
     "user": {
      "displayName": "Sida Wang",
      "photoUrl": "https://lh3.googleusercontent.com/a-/AOh14GhX6X9tJZ48VekSiIwpiMJXwreir_J00GucSmeC=s64",
      "userId": "05716004630528480504"
     },
     "user_tz": 420
    },
    "id": "fgJUs756XCPS",
    "outputId": "4335e6a0-f7fc-4be4-c767-c6bf80246715"
   },
   "outputs": [],
   "source": [
    "# !wc -l user-ct-test-collection-01.txt"
   ]
  },
  {
   "cell_type": "code",
   "execution_count": 1,
   "metadata": {
    "colab": {
     "base_uri": "https://localhost:8080/",
     "height": 102
    },
    "colab_type": "code",
    "executionInfo": {
     "elapsed": 6573,
     "status": "ok",
     "timestamp": 1598312797937,
     "user": {
      "displayName": "Sida Wang",
      "photoUrl": "https://lh3.googleusercontent.com/a-/AOh14GhX6X9tJZ48VekSiIwpiMJXwreir_J00GucSmeC=s64",
      "userId": "05716004630528480504"
     },
     "user_tz": 420
    },
    "id": "dMh53nviXGnP",
    "outputId": "e1978a1d-905f-45f8-cf19-4316faba6911"
   },
   "outputs": [],
   "source": [
    "# Extract query and split background/train/dev/test data based on QueryTime\n",
    "import string, re, random\n",
    "import tensorflow\n",
    "random.seed(1234)  # control repeatability\n",
    "\n",
    "sample_ratio = 0.01\n",
    "\n",
    "punctuation = string.punctuation\n",
    "translator = re.compile('[{}]+'.format(re.escape(string.punctuation)))  # regex to identify consecutive punctuations\n"
   ]
  },
  {
   "cell_type": "markdown",
   "metadata": {
    "colab_type": "text",
    "id": "dqKfWG5zfBw3"
   },
   "source": [
    "# Candidate Generation Component Construction\n",
    "In this section, we will use the background queries to construct a finite state transducer (FST) based candidate generator. The process is similar to a trie look up.\n",
    "\n",
    "Given a query \"abc\", the FST will look up top k most frequent background queries that starts with \"abc\"."
   ]
  },
  {
   "cell_type": "code",
   "execution_count": 2,
   "metadata": {
    "colab": {
     "base_uri": "https://localhost:8080/",
     "height": 68
    },
    "colab_type": "code",
    "executionInfo": {
     "elapsed": 9194,
     "status": "ok",
     "timestamp": 1598312800570,
     "user": {
      "displayName": "Sida Wang",
      "photoUrl": "https://lh3.googleusercontent.com/a-/AOh14GhX6X9tJZ48VekSiIwpiMJXwreir_J00GucSmeC=s64",
      "userId": "05716004630528480504"
     },
     "user_tz": 420
    },
    "id": "turkqPDHfKA-",
    "outputId": "0c7b7e47-0204-432a-e777-9bf24454885b"
   },
   "outputs": [],
   "source": [
    "# Install an open-source autocompletion package that supports trie-based completion (https://zepworks.com/posts/you-autocomplete-me/)\n",
    "# You can also use ElasticSearch for the same purpose (https://www.elastic.co/guide/en/elasticsearch/reference/current/search-suggesters.html#completion-suggester)\n",
    "# !pip install fast-autocomplete"
   ]
  },
  {
   "cell_type": "code",
   "execution_count": 3,
   "metadata": {},
   "outputs": [],
   "source": [
    "import pandas as pd\n",
    "import numpy as np\n",
    "df=pd.read_csv(\"../all-data2.csv\",usecols=['Text'])"
   ]
  },
  {
   "cell_type": "code",
   "execution_count": 31,
   "metadata": {},
   "outputs": [],
   "source": [
    "import re\n",
    "def clean(text):\n",
    "    text=str(text)\n",
    "    text=re.sub(r\"[`:,/!$%^&*|+'\\\\]\",\"\",text.lower())\n",
    "    text=text.strip().replace(\"  \",\" \")\n",
    "    return text\n",
    "df['Text']=df['Text'].apply(func=clean)\n",
    "paragraph = df['Text'].values"
   ]
  },
  {
   "cell_type": "code",
   "execution_count": 30,
   "metadata": {
    "scrolled": false
   },
   "outputs": [
    {
     "data": {
      "text/html": [
       "<div>\n",
       "<style scoped>\n",
       "    .dataframe tbody tr th:only-of-type {\n",
       "        vertical-align: middle;\n",
       "    }\n",
       "\n",
       "    .dataframe tbody tr th {\n",
       "        vertical-align: top;\n",
       "    }\n",
       "\n",
       "    .dataframe thead th {\n",
       "        text-align: right;\n",
       "    }\n",
       "</style>\n",
       "<table border=\"1\" class=\"dataframe\">\n",
       "  <thead>\n",
       "    <tr style=\"text-align: right;\">\n",
       "      <th></th>\n",
       "      <th>Text</th>\n",
       "    </tr>\n",
       "  </thead>\n",
       "  <tbody>\n",
       "    <tr>\n",
       "      <th>0</th>\n",
       "      <td>technopolis plans to develop in stages an area...</td>\n",
       "    </tr>\n",
       "    <tr>\n",
       "      <th>1</th>\n",
       "      <td>the international electronic industry company ...</td>\n",
       "    </tr>\n",
       "    <tr>\n",
       "      <th>2</th>\n",
       "      <td>with the new production plant the company woul...</td>\n",
       "    </tr>\n",
       "    <tr>\n",
       "      <th>3</th>\n",
       "      <td>according to the company s updated strategy fo...</td>\n",
       "    </tr>\n",
       "    <tr>\n",
       "      <th>4</th>\n",
       "      <td>financing of aspocomp s growth aspocomp is agg...</td>\n",
       "    </tr>\n",
       "  </tbody>\n",
       "</table>\n",
       "</div>"
      ],
      "text/plain": [
       "                                                Text\n",
       "0  technopolis plans to develop in stages an area...\n",
       "1  the international electronic industry company ...\n",
       "2  with the new production plant the company woul...\n",
       "3  according to the company s updated strategy fo...\n",
       "4  financing of aspocomp s growth aspocomp is agg..."
      ]
     },
     "execution_count": 30,
     "metadata": {},
     "output_type": "execute_result"
    }
   ],
   "source": [
    "df.head()"
   ]
  },
  {
   "cell_type": "code",
   "execution_count": 21,
   "metadata": {},
   "outputs": [],
   "source": [
    "def makeQuery(texts,indexes):\n",
    "    for text,indx in zip(texts,indexes):\n",
    "        words=text.split()\n",
    "        for i,w in enumerate(words):\n",
    "            yield \" \".join(words[i:])+\" \"+str(indx)"
   ]
  },
  {
   "cell_type": "code",
   "execution_count": 12,
   "metadata": {},
   "outputs": [],
   "source": [
    "bkg_queries=df.Text[:int(len(df)*1)]\n",
    "# train_queries=df.Text[int(len(df)*0.8):int(len(df)*0.85)]\n",
    "# dev_queries=df.Text[int(len(df)*0.85):int(len(df)*0.9)]\n",
    "# test_queries=df.Text[int(len(df)*0.9):]"
   ]
  },
  {
   "cell_type": "code",
   "execution_count": 14,
   "metadata": {},
   "outputs": [],
   "source": [
    "# query_log"
   ]
  },
  {
   "cell_type": "code",
   "execution_count": 22,
   "metadata": {
    "colab": {},
    "colab_type": "code",
    "executionInfo": {
     "elapsed": 9450,
     "status": "ok",
     "timestamp": 1598312800834,
     "user": {
      "displayName": "Sida Wang",
      "photoUrl": "https://lh3.googleusercontent.com/a-/AOh14GhX6X9tJZ48VekSiIwpiMJXwreir_J00GucSmeC=s64",
      "userId": "05716004630528480504"
     },
     "user_tz": 420
    },
    "id": "piNgzIvs94Tb"
   },
   "outputs": [],
   "source": [
    "# Construct the query logs using background queries\n",
    "# Write down the logs in a format accepted by the package\n",
    "from collections import Counter\n",
    "bkg_query_count = Counter(list(makeQuery(bkg_queries,bkg_queries.index)))\n",
    "\n",
    "query_log = dict()\n",
    "for query, count in bkg_query_count.items():\n",
    "  query_log[query] = [dict(), query, count]\n",
    "\n",
    "import json\n",
    "with open('query_log.json', 'w') as outfile:\n",
    "    json.dump(query_log, outfile, indent=2)"
   ]
  },
  {
   "cell_type": "code",
   "execution_count": 23,
   "metadata": {
    "colab": {
     "base_uri": "https://localhost:8080/",
     "height": 187
    },
    "colab_type": "code",
    "executionInfo": {
     "elapsed": 9443,
     "status": "ok",
     "timestamp": 1598312800835,
     "user": {
      "displayName": "Sida Wang",
      "photoUrl": "https://lh3.googleusercontent.com/a-/AOh14GhX6X9tJZ48VekSiIwpiMJXwreir_J00GucSmeC=s64",
      "userId": "05716004630528480504"
     },
     "user_tz": 420
    },
    "id": "FG7nlbGyZpRg",
    "outputId": "c2bdf511-beab-4cac-8fde-246d94910c6b"
   },
   "outputs": [
    {
     "name": "stdout",
     "output_type": "stream",
     "text": [
      "{\r\n",
      "  \"Technopolis plans to develop in stages an area of no less than 100,000 square meters in order to host companies working in computer technologies and telecommunications , the statement said . 0\": [\r\n",
      "    {},\r\n",
      "    \"Technopolis plans to develop in stages an area of no less than 100,000 square meters in order to host companies working in computer technologies and telecommunications , the statement said . 0\",\r\n",
      "    1\r\n",
      "  ],\r\n",
      "  \"plans to develop in stages an area of no less than 100,000 square meters in order to host companies working in computer technologies and telecommunications , the statement said . 0\": [\r\n",
      "    {},\r\n",
      "    \"plans to develop in stages an area of no less than 100,000 square meters in order to host companies working in computer technologies and telecommunications , the statement said . 0\",\r\n",
      "    1\r\n"
     ]
    }
   ],
   "source": [
    "!head -n 10 query_log.json"
   ]
  },
  {
   "cell_type": "code",
   "execution_count": 24,
   "metadata": {
    "colab": {},
    "colab_type": "code",
    "executionInfo": {
     "elapsed": 10393,
     "status": "ok",
     "timestamp": 1598312801792,
     "user": {
      "displayName": "Sida Wang",
      "photoUrl": "https://lh3.googleusercontent.com/a-/AOh14GhX6X9tJZ48VekSiIwpiMJXwreir_J00GucSmeC=s64",
      "userId": "05716004630528480504"
     },
     "user_tz": 420
    },
    "id": "mKOt6vCkXUzm"
   },
   "outputs": [],
   "source": [
    "from fast_autocomplete import autocomplete_factory\n",
    "\n",
    "content_files = {\n",
    "    'words': {\n",
    "        'filepath': 'query_log.json',\n",
    "        'compress': True  # means compress the graph data in memory\n",
    "    }\n",
    "}\n",
    "\n",
    "candidate_generator = autocomplete_factory(content_files=content_files)"
   ]
  },
  {
   "cell_type": "code",
   "execution_count": 51,
   "metadata": {
    "colab": {
     "base_uri": "https://localhost:8080/",
     "height": 34
    },
    "colab_type": "code",
    "executionInfo": {
     "elapsed": 10387,
     "status": "ok",
     "timestamp": 1598312801793,
     "user": {
      "displayName": "Sida Wang",
      "photoUrl": "https://lh3.googleusercontent.com/a-/AOh14GhX6X9tJZ48VekSiIwpiMJXwreir_J00GucSmeC=s64",
      "userId": "05716004630528480504"
     },
     "user_tz": 420
    },
    "id": "sDEE4USDcEeo",
    "outputId": "ac2c06e6-5254-42ae-aeef-57e34c2dcd39"
   },
   "outputs": [],
   "source": [
    "indexes=[]\n",
    "for s in inputDict.values():\n",
    "    results=candidate_generator.search(s, max_cost=0, size=50)\n",
    "    indexes.extend([ int(r[0].split()[-1]) for r in results])"
   ]
  },
  {
   "cell_type": "code",
   "execution_count": 52,
   "metadata": {},
   "outputs": [
    {
     "data": {
      "text/plain": [
       "[42, 4549, 9, 20, 66, 66, 42, 4549, 9, 20, 66, 42, 20, 66]"
      ]
     },
     "execution_count": 52,
     "metadata": {},
     "output_type": "execute_result"
    }
   ],
   "source": [
    "indexes"
   ]
  },
  {
   "cell_type": "code",
   "execution_count": 35,
   "metadata": {},
   "outputs": [],
   "source": [
    "def find(text,inputDict):\n",
    "    score={'Name':1,\"SurName\":1,\"qulification\":5,\"Mobile\":5,\"Email\":5,\"Work\":5}\n",
    "    scored=0\n",
    "    for key in inputDict.keys():\n",
    "        textlst=text.lower().split()\n",
    "        n=textlst.count(inputDict[key])\n",
    "        scored+=n*score[key]\n",
    "    return scored"
   ]
  },
  {
   "cell_type": "code",
   "execution_count": 81,
   "metadata": {},
   "outputs": [],
   "source": [
    "inputDict={'Name':\"shivam\",\"SurName\":\"sharma\",\"qulification\":\"m.tech\",\n",
    "           \"Mobile\":\"9530450649\",\"Email\":\"\",\"Work\":\"\"}"
   ]
  },
  {
   "cell_type": "code",
   "execution_count": 85,
   "metadata": {},
   "outputs": [],
   "source": [
    "def predict(inputDict):\n",
    "    indexes=[]\n",
    "    for s in inputDict.values():\n",
    "        results=candidate_generator.search(s, max_cost=0, size=50)\n",
    "        indexes.extend([ int(r[0].split()[-1]) for r in results])\n",
    "    output_data = pd.DataFrame(columns=[\"index\",\"text\",\"score\"])\n",
    "    count=0\n",
    "    for index in set(indexes):\n",
    "        text=paragraph[index]\n",
    "        score=find(text,inputDict)\n",
    "        output_data.loc[count]=([index,text,score])\n",
    "        count+=1\n",
    "    return output_data.sort_values('score',axis=0,ascending=False)"
   ]
  },
  {
   "cell_type": "code",
   "execution_count": 86,
   "metadata": {},
   "outputs": [],
   "source": [
    "res=predict(inputDict)"
   ]
  },
  {
   "cell_type": "code",
   "execution_count": 87,
   "metadata": {},
   "outputs": [
    {
     "data": {
      "text/html": [
       "<div>\n",
       "<style scoped>\n",
       "    .dataframe tbody tr th:only-of-type {\n",
       "        vertical-align: middle;\n",
       "    }\n",
       "\n",
       "    .dataframe tbody tr th {\n",
       "        vertical-align: top;\n",
       "    }\n",
       "\n",
       "    .dataframe thead th {\n",
       "        text-align: right;\n",
       "    }\n",
       "</style>\n",
       "<table border=\"1\" class=\"dataframe\">\n",
       "  <thead>\n",
       "    <tr style=\"text-align: right;\">\n",
       "      <th></th>\n",
       "      <th>index</th>\n",
       "      <th>text</th>\n",
       "      <th>score</th>\n",
       "    </tr>\n",
       "  </thead>\n",
       "  <tbody>\n",
       "    <tr>\n",
       "      <th>0</th>\n",
       "      <td>66</td>\n",
       "      <td>stock exchange announcement 20 july 2006 1 ( 1...</td>\n",
       "      <td>1</td>\n",
       "    </tr>\n",
       "    <tr>\n",
       "      <th>1</th>\n",
       "      <td>4549</td>\n",
       "      <td>my name is sourabhh sharma i study in jecrc ja...</td>\n",
       "      <td>1</td>\n",
       "    </tr>\n",
       "    <tr>\n",
       "      <th>2</th>\n",
       "      <td>9</td>\n",
       "      <td>teliasonera tlsn said the offer is in line wit...</td>\n",
       "      <td>1</td>\n",
       "    </tr>\n",
       "    <tr>\n",
       "      <th>3</th>\n",
       "      <td>42</td>\n",
       "      <td>sales for both the department store division a...</td>\n",
       "      <td>1</td>\n",
       "    </tr>\n",
       "    <tr>\n",
       "      <th>4</th>\n",
       "      <td>20</td>\n",
       "      <td>( filippova ) a trilateral agreement on invest...</td>\n",
       "      <td>1</td>\n",
       "    </tr>\n",
       "    <tr>\n",
       "      <th>5</th>\n",
       "      <td>4251</td>\n",
       "      <td>the e7 smartphone will be available for rs35 0...</td>\n",
       "      <td>0</td>\n",
       "    </tr>\n",
       "  </tbody>\n",
       "</table>\n",
       "</div>"
      ],
      "text/plain": [
       "  index                                               text score\n",
       "0    66  stock exchange announcement 20 july 2006 1 ( 1...     1\n",
       "1  4549  my name is sourabhh sharma i study in jecrc ja...     1\n",
       "2     9  teliasonera tlsn said the offer is in line wit...     1\n",
       "3    42  sales for both the department store division a...     1\n",
       "4    20  ( filippova ) a trilateral agreement on invest...     1\n",
       "5  4251  the e7 smartphone will be available for rs35 0...     0"
      ]
     },
     "execution_count": 87,
     "metadata": {},
     "output_type": "execute_result"
    }
   ],
   "source": [
    "res"
   ]
  },
  {
   "cell_type": "code",
   "execution_count": null,
   "metadata": {},
   "outputs": [],
   "source": []
  }
 ],
 "metadata": {
  "colab": {
   "name": "2.2.2-Query Auto Completion Hands-On Session.ipynb",
   "provenance": []
  },
  "kernelspec": {
   "display_name": "Python 3",
   "language": "python",
   "name": "python3"
  },
  "language_info": {
   "codemirror_mode": {
    "name": "ipython",
    "version": 3
   },
   "file_extension": ".py",
   "mimetype": "text/x-python",
   "name": "python",
   "nbconvert_exporter": "python",
   "pygments_lexer": "ipython3",
   "version": "3.6.9"
  }
 },
 "nbformat": 4,
 "nbformat_minor": 1
}
